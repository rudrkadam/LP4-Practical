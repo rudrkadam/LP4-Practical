{
 "cells": [
  {
   "cell_type": "code",
   "execution_count": 3,
   "id": "5c95adbd-7382-4341-bd4e-dbec5447ce11",
   "metadata": {},
   "outputs": [],
   "source": [
    "import numpy as np\n",
    "import pandas as pd\n",
    "import tensorflow as tf\n",
    "import matplotlib.pyplot as plt\n",
    "from sklearn.metrics import classification_report\n",
    "from tensorflow.keras.layers import Dense,Flatten,Dropout\n",
    "from tensorflow.keras.optimizers import SGD\n",
    "from tensorflow.keras.models import Sequential"
   ]
  },
  {
   "cell_type": "code",
   "execution_count": 6,
   "id": "5b303084-ed34-47ca-93a9-dbea240d9e3e",
   "metadata": {},
   "outputs": [],
   "source": [
    "train = pd.read_csv(\"D:\\DL-LAB\\LP-IV-datasets\\MNIST(Ass2&3)\\mnist_train.csv\")"
   ]
  },
  {
   "cell_type": "code",
   "execution_count": 8,
   "id": "e1b5487b-0996-49e6-9de6-e6292bae7cb3",
   "metadata": {},
   "outputs": [],
   "source": [
    "test = pd.read_csv(\"D:\\DL-LAB\\LP-IV-datasets\\MNIST(Ass2&3)\\mnist_test.csv\")"
   ]
  },
  {
   "cell_type": "code",
   "execution_count": 9,
   "id": "4065432e-efaa-4e36-8e5a-ffb8b2e9b73e",
   "metadata": {},
   "outputs": [],
   "source": [
    "x_train = train.drop(['label'] , axis = 1).values"
   ]
  },
  {
   "cell_type": "code",
   "execution_count": 11,
   "id": "f60bd258-6917-46fb-bc37-bb9a863e0f10",
   "metadata": {},
   "outputs": [
    {
     "data": {
      "text/plain": [
       "(60000, 784)"
      ]
     },
     "execution_count": 11,
     "metadata": {},
     "output_type": "execute_result"
    }
   ],
   "source": [
    "x_train.shape"
   ]
  },
  {
   "cell_type": "code",
   "execution_count": 13,
   "id": "e0ac888a-e2d2-4a7e-8aba-5cbb88d699a7",
   "metadata": {},
   "outputs": [],
   "source": [
    "x_train = x_train.reshape(60000,28,28,1).astype('float32')/255"
   ]
  },
  {
   "cell_type": "code",
   "execution_count": 15,
   "id": "6e2469c3-b60a-490e-9285-c3046f81689e",
   "metadata": {},
   "outputs": [],
   "source": [
    "y_train = train['label'].values"
   ]
  },
  {
   "cell_type": "code",
   "execution_count": 16,
   "id": "3cb3c2c7-6cef-445d-abaf-bd832ad7ed0c",
   "metadata": {},
   "outputs": [
    {
     "data": {
      "text/plain": [
       "(60000,)"
      ]
     },
     "execution_count": 16,
     "metadata": {},
     "output_type": "execute_result"
    }
   ],
   "source": [
    "y_train.shape"
   ]
  },
  {
   "cell_type": "code",
   "execution_count": 20,
   "id": "7987cffe-75dc-4d32-85db-c1582acd6c4a",
   "metadata": {},
   "outputs": [],
   "source": [
    "x_test = test.drop(['label'] , axis = 1).values"
   ]
  },
  {
   "cell_type": "code",
   "execution_count": 21,
   "id": "8249c827-d7f2-433e-8d6d-f9feef2a7f5c",
   "metadata": {},
   "outputs": [],
   "source": [
    "x_test = x_test.reshape(10000,28,28,1).astype('float32')/255"
   ]
  },
  {
   "cell_type": "code",
   "execution_count": 22,
   "id": "c59f73f0-3e15-4f26-ac87-b01193bf6e9c",
   "metadata": {},
   "outputs": [],
   "source": [
    "y_test = test['label'].values"
   ]
  },
  {
   "cell_type": "code",
   "execution_count": 24,
   "id": "1f70398d-06ff-4966-b5fd-89f93b84d86a",
   "metadata": {},
   "outputs": [
    {
     "data": {
      "text/plain": [
       "(10000,)"
      ]
     },
     "execution_count": 24,
     "metadata": {},
     "output_type": "execute_result"
    }
   ],
   "source": [
    "y_test.shape"
   ]
  },
  {
   "cell_type": "code",
   "execution_count": 25,
   "id": "a7af610e-456e-433f-97bb-7786f85deb16",
   "metadata": {},
   "outputs": [
    {
     "name": "stderr",
     "output_type": "stream",
     "text": [
      "C:\\Users\\rutur\\AppData\\Local\\Programs\\Python\\Python311\\Lib\\site-packages\\keras\\src\\layers\\reshaping\\flatten.py:37: UserWarning: Do not pass an `input_shape`/`input_dim` argument to a layer. When using Sequential models, prefer using an `Input(shape)` object as the first layer in the model instead.\n",
      "  super().__init__(**kwargs)\n"
     ]
    }
   ],
   "source": [
    "model = Sequential([\n",
    "    Flatten(input_shape = (28,28,1)),\n",
    "    Dense(128,activation = 'relu'),\n",
    "    Dense(64,activation = 'relu'),\n",
    "    Dense(28,activation = 'relu'),\n",
    "    Dropout(0.2),\n",
    "    Dense(10,activation = 'softmax')\n",
    "])"
   ]
  },
  {
   "cell_type": "code",
   "execution_count": 26,
   "id": "9f1a5781-5b0d-4fe2-b44d-45bd76400b7b",
   "metadata": {},
   "outputs": [],
   "source": [
    "model.compile(optimizer = SGD(learning_rate = 0.01), loss = 'sparse_categorical_crossentropy' , metrics = ['accuracy'])"
   ]
  },
  {
   "cell_type": "code",
   "execution_count": 27,
   "id": "efad27bd-b96e-47b2-9c5a-9e1eef7db6e8",
   "metadata": {},
   "outputs": [
    {
     "name": "stdout",
     "output_type": "stream",
     "text": [
      "Epoch 1/11\n",
      "\u001b[1m750/750\u001b[0m \u001b[32m━━━━━━━━━━━━━━━━━━━━\u001b[0m\u001b[37m\u001b[0m \u001b[1m5s\u001b[0m 5ms/step - accuracy: 0.3991 - loss: 1.7728 - val_accuracy: 0.8604 - val_loss: 0.5416\n",
      "Epoch 2/11\n",
      "\u001b[1m750/750\u001b[0m \u001b[32m━━━━━━━━━━━━━━━━━━━━\u001b[0m\u001b[37m\u001b[0m \u001b[1m3s\u001b[0m 4ms/step - accuracy: 0.8036 - loss: 0.6374 - val_accuracy: 0.9038 - val_loss: 0.3572\n",
      "Epoch 3/11\n",
      "\u001b[1m750/750\u001b[0m \u001b[32m━━━━━━━━━━━━━━━━━━━━\u001b[0m\u001b[37m\u001b[0m \u001b[1m3s\u001b[0m 4ms/step - accuracy: 0.8592 - loss: 0.4784 - val_accuracy: 0.9153 - val_loss: 0.3010\n",
      "Epoch 4/11\n",
      "\u001b[1m750/750\u001b[0m \u001b[32m━━━━━━━━━━━━━━━━━━━━\u001b[0m\u001b[37m\u001b[0m \u001b[1m3s\u001b[0m 4ms/step - accuracy: 0.8842 - loss: 0.4018 - val_accuracy: 0.9234 - val_loss: 0.2650\n",
      "Epoch 5/11\n",
      "\u001b[1m750/750\u001b[0m \u001b[32m━━━━━━━━━━━━━━━━━━━━\u001b[0m\u001b[37m\u001b[0m \u001b[1m5s\u001b[0m 4ms/step - accuracy: 0.8994 - loss: 0.3506 - val_accuracy: 0.9308 - val_loss: 0.2408\n",
      "Epoch 6/11\n",
      "\u001b[1m750/750\u001b[0m \u001b[32m━━━━━━━━━━━━━━━━━━━━\u001b[0m\u001b[37m\u001b[0m \u001b[1m5s\u001b[0m 4ms/step - accuracy: 0.9045 - loss: 0.3294 - val_accuracy: 0.9370 - val_loss: 0.2189\n",
      "Epoch 7/11\n",
      "\u001b[1m750/750\u001b[0m \u001b[32m━━━━━━━━━━━━━━━━━━━━\u001b[0m\u001b[37m\u001b[0m \u001b[1m3s\u001b[0m 4ms/step - accuracy: 0.9154 - loss: 0.2950 - val_accuracy: 0.9420 - val_loss: 0.2054\n",
      "Epoch 8/11\n",
      "\u001b[1m750/750\u001b[0m \u001b[32m━━━━━━━━━━━━━━━━━━━━\u001b[0m\u001b[37m\u001b[0m \u001b[1m3s\u001b[0m 4ms/step - accuracy: 0.9238 - loss: 0.2703 - val_accuracy: 0.9438 - val_loss: 0.1940\n",
      "Epoch 9/11\n",
      "\u001b[1m750/750\u001b[0m \u001b[32m━━━━━━━━━━━━━━━━━━━━\u001b[0m\u001b[37m\u001b[0m \u001b[1m3s\u001b[0m 4ms/step - accuracy: 0.9283 - loss: 0.2512 - val_accuracy: 0.9482 - val_loss: 0.1781\n",
      "Epoch 10/11\n",
      "\u001b[1m750/750\u001b[0m \u001b[32m━━━━━━━━━━━━━━━━━━━━\u001b[0m\u001b[37m\u001b[0m \u001b[1m3s\u001b[0m 4ms/step - accuracy: 0.9289 - loss: 0.2395 - val_accuracy: 0.9504 - val_loss: 0.1687\n",
      "Epoch 11/11\n",
      "\u001b[1m750/750\u001b[0m \u001b[32m━━━━━━━━━━━━━━━━━━━━\u001b[0m\u001b[37m\u001b[0m \u001b[1m3s\u001b[0m 4ms/step - accuracy: 0.9379 - loss: 0.2199 - val_accuracy: 0.9511 - val_loss: 0.1609\n"
     ]
    }
   ],
   "source": [
    "history = model.fit(x_train,y_train,batch_size = 64,epochs = 11, validation_split = 0.2)"
   ]
  },
  {
   "cell_type": "code",
   "execution_count": 34,
   "id": "34b62db2-face-4a5a-bea2-8b498bf9c84b",
   "metadata": {},
   "outputs": [
    {
     "name": "stdout",
     "output_type": "stream",
     "text": [
      "\u001b[1m313/313\u001b[0m \u001b[32m━━━━━━━━━━━━━━━━━━━━\u001b[0m\u001b[37m\u001b[0m \u001b[1m1s\u001b[0m 3ms/step - accuracy: 0.9450 - loss: 0.1835\n"
     ]
    }
   ],
   "source": [
    "loss,accuracy = model.evaluate(x_test,y_test)"
   ]
  },
  {
   "cell_type": "code",
   "execution_count": 35,
   "id": "242a6ff6-c61d-47e1-9864-07e8857661fb",
   "metadata": {},
   "outputs": [
    {
     "data": {
      "text/plain": [
       "0.1586007922887802"
      ]
     },
     "execution_count": 35,
     "metadata": {},
     "output_type": "execute_result"
    }
   ],
   "source": [
    "loss"
   ]
  },
  {
   "cell_type": "code",
   "execution_count": 36,
   "id": "ae75170d-0d5c-4b7b-be43-35fa70fbca61",
   "metadata": {},
   "outputs": [
    {
     "data": {
      "text/plain": [
       "0.9520999789237976"
      ]
     },
     "execution_count": 36,
     "metadata": {},
     "output_type": "execute_result"
    }
   ],
   "source": [
    "accuracy"
   ]
  },
  {
   "cell_type": "code",
   "execution_count": 37,
   "id": "a30a528e-296c-4d82-9515-6e0d81bfa3c5",
   "metadata": {},
   "outputs": [
    {
     "name": "stdout",
     "output_type": "stream",
     "text": [
      "\u001b[1m313/313\u001b[0m \u001b[32m━━━━━━━━━━━━━━━━━━━━\u001b[0m\u001b[37m\u001b[0m \u001b[1m1s\u001b[0m 3ms/step\n"
     ]
    }
   ],
   "source": [
    "y_pred = model.predict(x_test)"
   ]
  },
  {
   "cell_type": "code",
   "execution_count": 41,
   "id": "7338744e-bade-4168-9065-5b84032a3fa5",
   "metadata": {},
   "outputs": [],
   "source": [
    "y_pred = np.argmax(y_pred,1)"
   ]
  },
  {
   "cell_type": "code",
   "execution_count": 43,
   "id": "bc3adecd-7cfa-46b9-ac5b-2c9cc8f5ab19",
   "metadata": {},
   "outputs": [
    {
     "data": {
      "text/plain": [
       "array([7, 2, 1, ..., 4, 5, 6])"
      ]
     },
     "execution_count": 43,
     "metadata": {},
     "output_type": "execute_result"
    }
   ],
   "source": [
    "y_pred"
   ]
  },
  {
   "cell_type": "code",
   "execution_count": 44,
   "id": "0731ae18-371e-4b9a-98c5-c9668a5f86dd",
   "metadata": {},
   "outputs": [],
   "source": [
    "csr = classification_report(y_test,y_pred)"
   ]
  },
  {
   "cell_type": "code",
   "execution_count": 46,
   "id": "d1b61a3a-5ad7-40c3-9977-f5b606b08cba",
   "metadata": {},
   "outputs": [
    {
     "name": "stdout",
     "output_type": "stream",
     "text": [
      "              precision    recall  f1-score   support\n",
      "\n",
      "           0       0.96      0.98      0.97       980\n",
      "           1       0.98      0.99      0.98      1135\n",
      "           2       0.96      0.94      0.95      1032\n",
      "           3       0.93      0.95      0.94      1010\n",
      "           4       0.95      0.95      0.95       982\n",
      "           5       0.93      0.93      0.93       892\n",
      "           6       0.96      0.96      0.96       958\n",
      "           7       0.96      0.95      0.95      1028\n",
      "           8       0.94      0.93      0.94       974\n",
      "           9       0.93      0.94      0.93      1009\n",
      "\n",
      "    accuracy                           0.95     10000\n",
      "   macro avg       0.95      0.95      0.95     10000\n",
      "weighted avg       0.95      0.95      0.95     10000\n",
      "\n"
     ]
    }
   ],
   "source": [
    "print(csr)"
   ]
  },
  {
   "cell_type": "code",
   "execution_count": 47,
   "id": "785fd71b-c105-424d-b0d0-c8f3fbe75c9c",
   "metadata": {},
   "outputs": [
    {
     "data": {
      "text/plain": [
       "{'accuracy': [0.578041672706604,\n",
       "  0.8245833516120911,\n",
       "  0.8663750290870667,\n",
       "  0.8864791393280029,\n",
       "  0.9002291560173035,\n",
       "  0.909166693687439,\n",
       "  0.9168541431427002,\n",
       "  0.9246041774749756,\n",
       "  0.9282916784286499,\n",
       "  0.9325833320617676,\n",
       "  0.937416672706604],\n",
       " 'loss': [1.309293508529663,\n",
       "  0.5786324739456177,\n",
       "  0.45392656326293945,\n",
       "  0.3907705843448639,\n",
       "  0.346211314201355,\n",
       "  0.31812241673469543,\n",
       "  0.2893482744693756,\n",
       "  0.2643822133541107,\n",
       "  0.24884173274040222,\n",
       "  0.23219823837280273,\n",
       "  0.21829017996788025],\n",
       " 'val_accuracy': [0.8604166507720947,\n",
       "  0.9037500023841858,\n",
       "  0.9152500033378601,\n",
       "  0.9234166741371155,\n",
       "  0.9307500123977661,\n",
       "  0.9369999766349792,\n",
       "  0.9419999718666077,\n",
       "  0.9437500238418579,\n",
       "  0.9482499957084656,\n",
       "  0.9504166841506958,\n",
       "  0.9510833621025085],\n",
       " 'val_loss': [0.5416407585144043,\n",
       "  0.35715681314468384,\n",
       "  0.30100834369659424,\n",
       "  0.2650465965270996,\n",
       "  0.24076586961746216,\n",
       "  0.21887819468975067,\n",
       "  0.2053779661655426,\n",
       "  0.1939934641122818,\n",
       "  0.17814959585666656,\n",
       "  0.16871154308319092,\n",
       "  0.1608801931142807]}"
      ]
     },
     "execution_count": 47,
     "metadata": {},
     "output_type": "execute_result"
    }
   ],
   "source": [
    "history.history"
   ]
  },
  {
   "cell_type": "code",
   "execution_count": 52,
   "id": "b55a20dd-e6cb-4326-bae0-91a2fa39eaa1",
   "metadata": {},
   "outputs": [
    {
     "data": {
      "text/plain": [
       "<matplotlib.legend.Legend at 0x23252975a10>"
      ]
     },
     "execution_count": 52,
     "metadata": {},
     "output_type": "execute_result"
    },
    {
     "data": {
      "image/png": "[encoded data removed]",
      "text/plain": [
       "<Figure size 640x480 with 1 Axes>"
      ]
     },
     "metadata": {},
     "output_type": "display_data"
    }
   ],
   "source": [
    "plt.plot(history.history['val_accuracy'] , label = 'val_accuracy')\n",
    "plt.plot(history.history['accuracy'] , label = 'accuracy')\n",
    "plt.legend()"
   ]
  },
  {
   "cell_type": "code",
   "execution_count": 53,
   "id": "8e3f78d2-4661-4283-8df0-6790297a7616",
   "metadata": {},
   "outputs": [
    {
     "data": {
      "text/plain": [
       "<matplotlib.legend.Legend at 0x23254b69b50>"
      ]
     },
     "execution_count": 53,
     "metadata": {},
     "output_type": "execute_result"
    },
    {
     "data": {
      "image/png": "[encoded data removed]",
      "text/plain": [
       "<Figure size 640x480 with 1 Axes>"
      ]
     },
     "metadata": {},
     "output_type": "display_data"
    }
   ],
   "source": [
    "plt.plot(history.history['val_loss'] , label = 'val_loss')\n",
    "plt.plot(history.history['loss'] , label = 'loss')\n",
    "plt.legend()"
   ]
  },
  {
   "cell_type": "code",
   "execution_count": null,
   "id": "fc5f8144-a981-4cb5-926e-67b0266d415d",
   "metadata": {},
   "outputs": [],
   "source": []
  }
 ],
 "metadata": {
  "kernelspec": {
   "display_name": "Python 3 (ipykernel)",
   "language": "python",
   "name": "python3"
  },
  "language_info": {
   "codemirror_mode": {
    "name": "ipython",
    "version": 3
   },
   "file_extension": ".py",
   "mimetype": "text/x-python",
   "name": "python",
   "nbconvert_exporter": "python",
   "pygments_lexer": "ipython3",
   "version": "3.11.0"
  }
 },
 "nbformat": 4,
 "nbformat_minor": 5
}
